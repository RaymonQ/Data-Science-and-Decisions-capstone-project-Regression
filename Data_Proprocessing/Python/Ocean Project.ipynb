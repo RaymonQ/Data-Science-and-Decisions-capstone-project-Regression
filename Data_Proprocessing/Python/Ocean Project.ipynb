{
 "cells": [
  {
   "cell_type": "code",
   "execution_count": 127,
   "metadata": {},
   "outputs": [],
   "source": [
    "import numpy as np\n",
    "import pandas as pd\n",
    "import matplotlib.pyplot as plt\n",
    "import seaborn as sns\n",
    "#import missingno as msno \n",
    "df = pd.read_csv(\"data.csv\", skiprows = 41)"
   ]
  },
  {
   "cell_type": "code",
   "execution_count": 128,
   "metadata": {},
   "outputs": [
    {
     "data": {
      "text/plain": [
       "3123100"
      ]
     },
     "execution_count": 128,
     "metadata": {},
     "output_type": "execute_result"
    }
   ],
   "source": [
    "df = df.drop(df[(df.PSAL < 2)].index)\n",
    "df = df.drop(df[(df.PSAL > 41)].index)\n",
    "len(df)"
   ]
  },
  {
   "cell_type": "code",
   "execution_count": 129,
   "metadata": {},
   "outputs": [
    {
     "data": {
      "text/plain": [
       "3115646"
      ]
     },
     "execution_count": 129,
     "metadata": {},
     "output_type": "execute_result"
    }
   ],
   "source": [
    "df = df.drop(df[(df.CPHL < 0)].index)\n",
    "df = df.drop(df[(df.CPHL > 100)].index)\n",
    "len(df)"
   ]
  },
  {
   "cell_type": "code",
   "execution_count": 130,
   "metadata": {},
   "outputs": [
    {
     "data": {
      "text/plain": [
       "3104591"
      ]
     },
     "execution_count": 130,
     "metadata": {},
     "output_type": "execute_result"
    }
   ],
   "source": [
    "df = df.drop(df[(df.CDOM < 0)].index)\n",
    "df = df.drop(df[(df.CDOM > 400)].index)\n",
    "len(df)"
   ]
  },
  {
   "cell_type": "code",
   "execution_count": 131,
   "metadata": {},
   "outputs": [
    {
     "data": {
      "text/plain": [
       "3104306"
      ]
     },
     "execution_count": 131,
     "metadata": {},
     "output_type": "execute_result"
    }
   ],
   "source": [
    "df = df.drop(df[(df.VBSC < 0)].index)\n",
    "df = df.drop(df[(df.VBSC > 0.1)].index)\n",
    "len(df)"
   ]
  },
  {
   "cell_type": "code",
   "execution_count": 132,
   "metadata": {},
   "outputs": [
    {
     "data": {
      "text/plain": [
       "3101188"
      ]
     },
     "execution_count": 132,
     "metadata": {},
     "output_type": "execute_result"
    }
   ],
   "source": [
    "df = df.drop(df[(df.IRRAD555 < 0) ].index)\n",
    "df = df.drop(df[(df.IRRAD555 > 1000)].index)\n",
    "len(df)"
   ]
  },
  {
   "cell_type": "code",
   "execution_count": 133,
   "metadata": {},
   "outputs": [
    {
     "data": {
      "text/plain": [
       "FID                                0\n",
       "file_id                            0\n",
       "deployment_name                    0\n",
       "platform_type                      0\n",
       "platform_code                      1\n",
       "time_coverage_start                1\n",
       "time_coverage_end                  1\n",
       "TIME                               1\n",
       "TIME_quality_control               1\n",
       "LATITUDE                        2077\n",
       "LATITUDE_quality_control           1\n",
       "LONGITUDE                       2077\n",
       "LONGITUDE_quality_control          1\n",
       "PRES                            6895\n",
       "PRES_quality_control               1\n",
       "DEPTH                           7687\n",
       "DEPTH_quality_control              1\n",
       "PROFILE                         1556\n",
       "PROFILE_quality_control            1\n",
       "PHASE                           7049\n",
       "PHASE_quality_control              1\n",
       "TEMP                            1410\n",
       "TEMP_quality_control               1\n",
       "PSAL                            7252\n",
       "PSAL_quality_control               1\n",
       "DOX1                          641383\n",
       "DOX1_quality_control               1\n",
       "DOX2                          770651\n",
       "DOX2_quality_control               1\n",
       "CPHL                          877544\n",
       "CPHL_quality_control               1\n",
       "CDOM                          877545\n",
       "CDOM_quality_control               1\n",
       "CNDC                            1786\n",
       "CNDC_quality_control               1\n",
       "VBSC                          877544\n",
       "VBSC_quality_control               1\n",
       "NTRA                         2861977\n",
       "NTRA_quality_control         2861977\n",
       "UCUR                         3100081\n",
       "UCUR_quality_control               1\n",
       "VCUR                         3100081\n",
       "VCUR_quality_control               1\n",
       "HEAD                            3843\n",
       "HEAD_quality_control               1\n",
       "UCUR_GPS                     3099715\n",
       "UCUR_GPS_quality_control           1\n",
       "VCUR_GPS                     3099715\n",
       "VCUR_GPS_quality_control           1\n",
       "IRRAD443                     1514766\n",
       "IRRAD443_quality_control     1514765\n",
       "IRRAD490                     1514766\n",
       "IRRAD490_quality_control     1514765\n",
       "IRRAD555                     1514766\n",
       "IRRAD555_quality_control     1514765\n",
       "IRRAD670                     1514766\n",
       "IRRAD670_quality_control     1514765\n",
       "geom                            2077\n",
       "dtype: int64"
      ]
     },
     "execution_count": 133,
     "metadata": {},
     "output_type": "execute_result"
    }
   ],
   "source": [
    "df.isnull().sum()"
   ]
  },
  {
   "cell_type": "code",
   "execution_count": 134,
   "metadata": {},
   "outputs": [],
   "source": [
    "# df_cc= df[['LATITUDE','LONGITUDE','UCUR']].dropna(axis=0)"
   ]
  },
  {
   "cell_type": "code",
   "execution_count": 139,
   "metadata": {},
   "outputs": [
    {
     "name": "stderr",
     "output_type": "stream",
     "text": [
      "/Users/chengqian/opt/anaconda3/lib/python3.7/site-packages/ipykernel_launcher.py:8: UserWarning: Boolean Series key will be reindexed to match DataFrame index.\n",
      "  \n"
     ]
    }
   ],
   "source": [
    "# from sklearn.neighbors import KNeighborsClassifier\n",
    "# from sklearn.model_selection import cross_val_score\n",
    "# knn = KNeighborsClassifier(3, weights = 'distance')\n",
    "# X = df_cc.loc[:,['LATITUDE','LONGITUDE']]\n",
    "# y = df_cc.loc[:,'UCUR'].astype('int')\n",
    "# model_3nn = knn.fit(X,y)\n",
    "# missing_UCUR = df['UCUR'].isnull()\n",
    "# df_missing_UCUR = pd.DataFrame(df[['LATITUDE','LONGITUDE']].dropna(axis=0)[missing_UCUR])\n",
    "# imputed_UCUR = model_3nn.predict(df_missing_UCUR)\n",
    "\n",
    "\n",
    "\n"
   ]
  },
  {
   "cell_type": "code",
   "execution_count": 174,
   "metadata": {},
   "outputs": [
    {
     "data": {
      "text/plain": [
       "<matplotlib.legend.Legend at 0x7fef8687e810>"
      ]
     },
     "execution_count": 174,
     "metadata": {},
     "output_type": "execute_result"
    },
    {
     "data": {
      "image/png": "[encoded data removed]",
      "text/plain": [
       "<Figure size 432x288 with 3 Axes>"
      ]
     },
     "metadata": {
      "needs_background": "light"
     },
     "output_type": "display_data"
    }
   ],
   "source": [
    "# UCUR_obs = df['UCUR'].dropna()\n",
    "# UCUR_mis = df['UCUR'][missing_UCUR]\n",
    "# UCUR_3nn_imp = pd.DataFrame(imputed_UCUR)\n",
    "# UCUR_3nn_imp = UCUR_3nn_imp.T.squeeze()\n",
    "# mode_UCUR = df['UCUR'].mode()\n",
    "# df_mode4UCUR = df.fillna(value = {'UCUR':mode_UCUR[0]})\n",
    "# UCUR_mode_imp = df_mode4UCUR[['UCUR']][missing_UCUR]\n",
    "# UCUR_mode_imp = UCUR_mode_imp.T.squeeze()\n",
    "# legend_1 = ['observed UCUR','missing UCUR']\n",
    "# legend_2 = ['observed UCUR','3nn imputed UCUR']\n",
    "# legend_3 = ['observed UCUR','mode imputed UCUR']\n",
    "\n",
    "# plt.subplot(1,3,1)\n",
    "# plt.hist([UCUR_obs,UCUR_mis],color=['gold','limegreen'])\n",
    "# plt.xlabel(\"UCUR\")\n",
    "# plt.ylabel(\"Frequency\")\n",
    "# plt.legend(legend_1)\n",
    "\n",
    "# plt.subplot(1,3,2)\n",
    "# plt.hist([UCUR_obs,UCUR_3nn_imp],color=['gold','royalblue'])\n",
    "# plt.xlabel(\"UCUR\")\n",
    "# plt.ylabel(\"Frequency\")\n",
    "# plt.legend(legend_2)\n",
    "\n",
    "# plt.subplot(1,3,3)\n",
    "# plt.hist([UCUR_obs,UCUR_mode_imp],color=['gold','violet'])\n",
    "# plt.xlabel(\"UCUR\")\n",
    "# plt.ylabel(\"Frequency\")\n",
    "# plt.legend(legend_3)"
   ]
  },
  {
   "cell_type": "code",
   "execution_count": 178,
   "metadata": {},
   "outputs": [
    {
     "data": {
      "text/plain": [
       "FID                                0\n",
       "file_id                            0\n",
       "deployment_name                    0\n",
       "platform_type                      0\n",
       "platform_code                      1\n",
       "time_coverage_start                1\n",
       "time_coverage_end                  1\n",
       "TIME                               1\n",
       "TIME_quality_control               1\n",
       "LATITUDE                        2077\n",
       "LATITUDE_quality_control           1\n",
       "LONGITUDE                       2077\n",
       "LONGITUDE_quality_control          1\n",
       "PRES                            6895\n",
       "PRES_quality_control               1\n",
       "DEPTH                           7687\n",
       "DEPTH_quality_control              1\n",
       "PROFILE                         1556\n",
       "PROFILE_quality_control            1\n",
       "PHASE                           7049\n",
       "PHASE_quality_control              1\n",
       "TEMP                            1410\n",
       "TEMP_quality_control               1\n",
       "PSAL                            7252\n",
       "PSAL_quality_control               1\n",
       "DOX1                          641383\n",
       "DOX1_quality_control               1\n",
       "DOX2                          770651\n",
       "DOX2_quality_control               1\n",
       "CPHL                          877544\n",
       "CPHL_quality_control               1\n",
       "CDOM                          877545\n",
       "CDOM_quality_control               1\n",
       "CNDC                            1786\n",
       "CNDC_quality_control               1\n",
       "VBSC                          877544\n",
       "VBSC_quality_control               1\n",
       "NTRA                         2861977\n",
       "NTRA_quality_control         2861977\n",
       "UCUR                         3100081\n",
       "UCUR_quality_control               1\n",
       "VCUR                         3100081\n",
       "VCUR_quality_control               1\n",
       "HEAD                            3843\n",
       "HEAD_quality_control               1\n",
       "UCUR_GPS                     3099715\n",
       "UCUR_GPS_quality_control           1\n",
       "VCUR_GPS                     3099715\n",
       "VCUR_GPS_quality_control           1\n",
       "IRRAD443                     1514766\n",
       "IRRAD443_quality_control     1514765\n",
       "IRRAD490                     1514766\n",
       "IRRAD490_quality_control     1514765\n",
       "IRRAD555                     1514766\n",
       "IRRAD555_quality_control     1514765\n",
       "IRRAD670                     1514766\n",
       "IRRAD670_quality_control     1514765\n",
       "geom                            2077\n",
       "dtype: int64"
      ]
     },
     "execution_count": 178,
     "metadata": {},
     "output_type": "execute_result"
    }
   ],
   "source": [
    "df.isnull().sum()"
   ]
  },
  {
   "cell_type": "code",
   "execution_count": 192,
   "metadata": {},
   "outputs": [
    {
     "name": "stderr",
     "output_type": "stream",
     "text": [
      "/Users/chengqian/opt/anaconda3/lib/python3.7/site-packages/matplotlib/axes/_axes.py:6735: RuntimeWarning: All-NaN axis encountered\n",
      "  xmin = min(xmin, np.nanmin(xi))\n",
      "/Users/chengqian/opt/anaconda3/lib/python3.7/site-packages/matplotlib/axes/_axes.py:6736: RuntimeWarning: All-NaN axis encountered\n",
      "  xmax = max(xmax, np.nanmax(xi))\n"
     ]
    },
    {
     "data": {
      "text/plain": [
       "<matplotlib.legend.Legend at 0x7fef427069d0>"
      ]
     },
     "execution_count": 192,
     "metadata": {},
     "output_type": "execute_result"
    },
    {
     "data": {
      "image/png": "[encoded data removed]",
      "text/plain": [
       "<Figure size 432x288 with 3 Axes>"
      ]
     },
     "metadata": {
      "needs_background": "light"
     },
     "output_type": "display_data"
    }
   ],
   "source": [
    "df_cc= df[['LATITUDE','LONGITUDE','PRES','DEPTH','PROFILE','PHASE','TEMP','PSAL','CNDC','HEAD']].dropna(axis=0)\n",
    "\n",
    "from sklearn.neighbors import KNeighborsClassifier\n",
    "from sklearn.model_selection import cross_val_score\n",
    "knn = KNeighborsClassifier(3, weights = 'distance')\n",
    "X = df_cc.loc[:,['LATITUDE','LONGITUDE','PRES','DEPTH','PROFILE','PHASE','TEMP','PSAL','CNDC']]\n",
    "y = df_cc.loc[:,'HEAD'].astype('int')\n",
    "model_3nn = knn.fit(X,y)\n",
    "missing_HEAD = df['HEAD'].isnull()\n",
    "df_missing_HEAD = pd.DataFrame(df[['LATITUDE','LONGITUDE','PRES','DEPTH','PROFILE','PHASE','TEMP','PSAL','CNDC']].fillna(df_cc.mean())[missing_HEAD])\n",
    "imputed_HEAD = model_3nn.predict(df_missing_HEAD)\n",
    "\n",
    "HEAD_obs = df['HEAD'].dropna()\n",
    "HEAD_mis = df['HEAD'][missing_HEAD]\n",
    "HEAD_3nn_imp = pd.DataFrame(imputed_HEAD)\n",
    "HEAD_3nn_imp = HEAD_3nn_imp.T.squeeze()\n",
    "mode_HEAD = df['HEAD'].mode()\n",
    "df_mode4HEAD = df.fillna(value = {'HEAD':mode_HEAD[0]})\n",
    "HEAD_mode_imp = df_mode4HEAD[['HEAD']][missing_HEAD]\n",
    "HEAD_mode_imp = HEAD_mode_imp.T.squeeze()\n",
    "legend_1 = ['observed HEAD','missing HEAD']\n",
    "legend_2 = ['observed HEAD','3nn imputed HEAD']\n",
    "legend_3 = ['observed HEAD','mode imputed HEAD']\n",
    "\n",
    "plt.subplot(1,3,1)\n",
    "plt.hist([HEAD_obs,HEAD_mis],color=['gold','limegreen'])\n",
    "plt.xlabel(\"HEAD\")\n",
    "plt.ylabel(\"Frequency\")\n",
    "plt.legend(legend_1)\n",
    "\n",
    "plt.subplot(1,3,2)\n",
    "plt.hist([HEAD_obs,HEAD_3nn_imp],color=['gold','royalblue'])\n",
    "plt.xlabel(\"HEAD\")\n",
    "plt.ylabel(\"Frequency\")\n",
    "plt.legend(legend_2)\n",
    "\n",
    "plt.subplot(1,3,3)\n",
    "plt.hist([HEAD_obs,HEAD_mode_imp],color=['gold','violet'])\n",
    "plt.xlabel(\"HEAD\")\n",
    "plt.ylabel(\"Frequency\")\n",
    "plt.legend(legend_3)"
   ]
  },
  {
   "cell_type": "code",
   "execution_count": 190,
   "metadata": {},
   "outputs": [
    {
     "data": {
      "text/plain": [
       "3843"
      ]
     },
     "execution_count": 190,
     "metadata": {},
     "output_type": "execute_result"
    }
   ],
   "source": [
    "len(imputed_HEAD)"
   ]
  },
  {
   "cell_type": "code",
   "execution_count": 185,
   "metadata": {},
   "outputs": [
    {
     "data": {
      "text/html": [
       "<div>\n",
       "<style scoped>\n",
       "    .dataframe tbody tr th:only-of-type {\n",
       "        vertical-align: middle;\n",
       "    }\n",
       "\n",
       "    .dataframe tbody tr th {\n",
       "        vertical-align: top;\n",
       "    }\n",
       "\n",
       "    .dataframe thead th {\n",
       "        text-align: right;\n",
       "    }\n",
       "</style>\n",
       "<table border=\"1\" class=\"dataframe\">\n",
       "  <thead>\n",
       "    <tr style=\"text-align: right;\">\n",
       "      <th></th>\n",
       "      <th>LATITUDE</th>\n",
       "      <th>LONGITUDE</th>\n",
       "      <th>PRES</th>\n",
       "      <th>DEPTH</th>\n",
       "      <th>PROFILE</th>\n",
       "      <th>PHASE</th>\n",
       "      <th>TEMP</th>\n",
       "      <th>PSAL</th>\n",
       "      <th>CNDC</th>\n",
       "    </tr>\n",
       "  </thead>\n",
       "  <tbody>\n",
       "    <tr>\n",
       "      <td>7013</td>\n",
       "      <td>-31.8007</td>\n",
       "      <td>114.9833</td>\n",
       "      <td>74.13</td>\n",
       "      <td>73.6016</td>\n",
       "      <td>4921.0</td>\n",
       "      <td>1.0</td>\n",
       "      <td>23.5694</td>\n",
       "      <td>35.3560</td>\n",
       "      <td>5.2085</td>\n",
       "    </tr>\n",
       "    <tr>\n",
       "      <td>7014</td>\n",
       "      <td>-31.8006</td>\n",
       "      <td>114.9833</td>\n",
       "      <td>74.42</td>\n",
       "      <td>73.8895</td>\n",
       "      <td>4921.0</td>\n",
       "      <td>1.0</td>\n",
       "      <td>23.5456</td>\n",
       "      <td>35.3561</td>\n",
       "      <td>5.2061</td>\n",
       "    </tr>\n",
       "    <tr>\n",
       "      <td>7015</td>\n",
       "      <td>-31.8006</td>\n",
       "      <td>114.9833</td>\n",
       "      <td>74.71</td>\n",
       "      <td>74.1773</td>\n",
       "      <td>4921.0</td>\n",
       "      <td>1.0</td>\n",
       "      <td>23.5190</td>\n",
       "      <td>35.3554</td>\n",
       "      <td>5.2034</td>\n",
       "    </tr>\n",
       "    <tr>\n",
       "      <td>7016</td>\n",
       "      <td>-31.8006</td>\n",
       "      <td>114.9833</td>\n",
       "      <td>75.00</td>\n",
       "      <td>74.4652</td>\n",
       "      <td>4921.0</td>\n",
       "      <td>1.0</td>\n",
       "      <td>23.4958</td>\n",
       "      <td>35.3546</td>\n",
       "      <td>5.2009</td>\n",
       "    </tr>\n",
       "    <tr>\n",
       "      <td>7017</td>\n",
       "      <td>-31.8006</td>\n",
       "      <td>114.9833</td>\n",
       "      <td>75.31</td>\n",
       "      <td>74.7730</td>\n",
       "      <td>4921.0</td>\n",
       "      <td>1.0</td>\n",
       "      <td>23.4824</td>\n",
       "      <td>35.3525</td>\n",
       "      <td>5.1992</td>\n",
       "    </tr>\n",
       "    <tr>\n",
       "      <td>...</td>\n",
       "      <td>...</td>\n",
       "      <td>...</td>\n",
       "      <td>...</td>\n",
       "      <td>...</td>\n",
       "      <td>...</td>\n",
       "      <td>...</td>\n",
       "      <td>...</td>\n",
       "      <td>...</td>\n",
       "      <td>...</td>\n",
       "    </tr>\n",
       "    <tr>\n",
       "      <td>3122797</td>\n",
       "      <td>-43.6008</td>\n",
       "      <td>147.7859</td>\n",
       "      <td>14.40</td>\n",
       "      <td>14.2845</td>\n",
       "      <td>652.0</td>\n",
       "      <td>1.0</td>\n",
       "      <td>12.7275</td>\n",
       "      <td>35.2306</td>\n",
       "      <td>4.0947</td>\n",
       "    </tr>\n",
       "    <tr>\n",
       "      <td>3122798</td>\n",
       "      <td>-43.6008</td>\n",
       "      <td>147.7859</td>\n",
       "      <td>14.77</td>\n",
       "      <td>14.6515</td>\n",
       "      <td>652.0</td>\n",
       "      <td>1.0</td>\n",
       "      <td>12.7277</td>\n",
       "      <td>35.2307</td>\n",
       "      <td>4.0948</td>\n",
       "    </tr>\n",
       "    <tr>\n",
       "      <td>3122799</td>\n",
       "      <td>-43.6008</td>\n",
       "      <td>147.7859</td>\n",
       "      <td>15.14</td>\n",
       "      <td>15.0185</td>\n",
       "      <td>652.0</td>\n",
       "      <td>1.0</td>\n",
       "      <td>12.7279</td>\n",
       "      <td>35.2309</td>\n",
       "      <td>4.0948</td>\n",
       "    </tr>\n",
       "    <tr>\n",
       "      <td>3122800</td>\n",
       "      <td>-43.6008</td>\n",
       "      <td>147.7859</td>\n",
       "      <td>15.51</td>\n",
       "      <td>15.3855</td>\n",
       "      <td>652.0</td>\n",
       "      <td>1.0</td>\n",
       "      <td>12.7284</td>\n",
       "      <td>35.2308</td>\n",
       "      <td>4.0949</td>\n",
       "    </tr>\n",
       "    <tr>\n",
       "      <td>3122801</td>\n",
       "      <td>-43.6008</td>\n",
       "      <td>147.7859</td>\n",
       "      <td>15.87</td>\n",
       "      <td>15.7426</td>\n",
       "      <td>652.0</td>\n",
       "      <td>1.0</td>\n",
       "      <td>12.7286</td>\n",
       "      <td>35.2309</td>\n",
       "      <td>4.0949</td>\n",
       "    </tr>\n",
       "  </tbody>\n",
       "</table>\n",
       "<p>2179 rows × 9 columns</p>\n",
       "</div>"
      ],
      "text/plain": [
       "         LATITUDE  LONGITUDE   PRES    DEPTH  PROFILE  PHASE     TEMP  \\\n",
       "7013     -31.8007   114.9833  74.13  73.6016   4921.0    1.0  23.5694   \n",
       "7014     -31.8006   114.9833  74.42  73.8895   4921.0    1.0  23.5456   \n",
       "7015     -31.8006   114.9833  74.71  74.1773   4921.0    1.0  23.5190   \n",
       "7016     -31.8006   114.9833  75.00  74.4652   4921.0    1.0  23.4958   \n",
       "7017     -31.8006   114.9833  75.31  74.7730   4921.0    1.0  23.4824   \n",
       "...           ...        ...    ...      ...      ...    ...      ...   \n",
       "3122797  -43.6008   147.7859  14.40  14.2845    652.0    1.0  12.7275   \n",
       "3122798  -43.6008   147.7859  14.77  14.6515    652.0    1.0  12.7277   \n",
       "3122799  -43.6008   147.7859  15.14  15.0185    652.0    1.0  12.7279   \n",
       "3122800  -43.6008   147.7859  15.51  15.3855    652.0    1.0  12.7284   \n",
       "3122801  -43.6008   147.7859  15.87  15.7426    652.0    1.0  12.7286   \n",
       "\n",
       "            PSAL    CNDC  \n",
       "7013     35.3560  5.2085  \n",
       "7014     35.3561  5.2061  \n",
       "7015     35.3554  5.2034  \n",
       "7016     35.3546  5.2009  \n",
       "7017     35.3525  5.1992  \n",
       "...          ...     ...  \n",
       "3122797  35.2306  4.0947  \n",
       "3122798  35.2307  4.0948  \n",
       "3122799  35.2309  4.0948  \n",
       "3122800  35.2308  4.0949  \n",
       "3122801  35.2309  4.0949  \n",
       "\n",
       "[2179 rows x 9 columns]"
      ]
     },
     "execution_count": 185,
     "metadata": {},
     "output_type": "execute_result"
    }
   ],
   "source": [
    "df_missing_HEAD"
   ]
  },
  {
   "cell_type": "code",
   "execution_count": 32,
   "metadata": {},
   "outputs": [],
   "source": [
    "# df1 = df[df['IRRAD443'].notnull()]\n",
    "# X = df1['IRRAD443'].values\n",
    "# y = df1['IRRAD443_quality_control'].values\n",
    "# from sklearn.model_selection import train_test_split\n",
    "# X_train, X_test, y_train, y_test = train_test_split(X, y, test_size=0.20,random_state=0)\n",
    "# X_train = np.array(X_train).reshape(-1, 1)\n",
    "# y_train = np.array(y_train).reshape(-1, 1)\n",
    "# X_test = np.array(X_test).reshape(-1, 1)"
   ]
  },
  {
   "cell_type": "code",
   "execution_count": 33,
   "metadata": {},
   "outputs": [],
   "source": [
    "# from sklearn.ensemble import RandomForestRegressor\n",
    "\n",
    "# regressor = RandomForestRegressor(n_estimators=20, random_state=0)\n",
    "# regressor.fit(X_train, y_train.ravel())\n",
    "# y_pred = regressor.predict(X_test)\n",
    "# y_pred"
   ]
  },
  {
   "cell_type": "code",
   "execution_count": 34,
   "metadata": {},
   "outputs": [],
   "source": [
    "# from sklearn.metrics import classification_report, confusion_matrix, accuracy_score\n",
    "\n",
    "# print(confusion_matrix(y_test,y_pred.round()))\n",
    "# print(classification_report(y_test,y_pred.round()))\n",
    "# print(accuracy_score(y_test, y_pred.round()))"
   ]
  },
  {
   "cell_type": "code",
   "execution_count": 35,
   "metadata": {},
   "outputs": [],
   "source": [
    "# from sklearn.ensemble import RandomForestClassifier\n",
    "# df1 = df[df['IRRAD443'].notnull()]\n",
    "# X = df1['IRRAD443'].values\n",
    "# y = df1['IRRAD443_quality_control'].values\n",
    "# from sklearn.model_selection import train_test_split\n",
    "# X_train, X_test, y_train, y_test = train_test_split(X, y, test_size=0.20,random_state=0)\n",
    "# clf = RandomForestClassifier(max_depth=2, random_state=0)\n",
    "# X_train = np.array(X_train).reshape(-1, 1)\n",
    "# y_train = np.array(y_train).reshape(-1, 1)\n",
    "# X_test = np.array(X_test).reshape(-1, 1)\n",
    "# clf.fit(X_train, y_train)\n",
    "# y_pred = clf.predict(X_test)\n",
    "\n"
   ]
  },
  {
   "cell_type": "code",
   "execution_count": 36,
   "metadata": {},
   "outputs": [],
   "source": [
    "# from sklearn.metrics import classification_report, confusion_matrix, accuracy_score\n",
    "\n",
    "# print(confusion_matrix(y_test,y_pred))\n",
    "# print(classification_report(y_test,y_pred))\n",
    "# print(accuracy_score(y_test, y_pred))"
   ]
  },
  {
   "cell_type": "code",
   "execution_count": null,
   "metadata": {},
   "outputs": [],
   "source": []
  }
 ],
 "metadata": {
  "kernelspec": {
   "display_name": "Python 3",
   "language": "python",
   "name": "python3"
  },
  "language_info": {
   "codemirror_mode": {
    "name": "ipython",
    "version": 3
   },
   "file_extension": ".py",
   "mimetype": "text/x-python",
   "name": "python",
   "nbconvert_exporter": "python",
   "pygments_lexer": "ipython3",
   "version": "3.7.4"
  }
 },
 "nbformat": 4,
 "nbformat_minor": 2
}
